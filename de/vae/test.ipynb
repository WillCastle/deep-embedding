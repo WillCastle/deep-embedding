{
 "cells": [
  {
   "cell_type": "code",
   "execution_count": 1,
   "metadata": {},
   "outputs": [],
   "source": [
    "import torch\n",
    "from custom_model import VAE"
   ]
  },
  {
   "cell_type": "code",
   "execution_count": 8,
   "metadata": {},
   "outputs": [
    {
     "name": "stdout",
     "output_type": "stream",
     "text": [
      "VAE(\n",
      "  (encoder_module): StackedEncoder(\n",
      "    (encoder): Sequential(\n",
      "      (0): Sequential(\n",
      "        (0): Linear(in_features=64, out_features=16, bias=True)\n",
      "        (1): BatchNorm1d(16, eps=1e-05, momentum=0.1, affine=True, track_running_stats=True)\n",
      "        (2): GELU(approximate='none')\n",
      "      )\n",
      "      (1): Sequential(\n",
      "        (0): Linear(in_features=16, out_features=4, bias=True)\n",
      "        (1): BatchNorm1d(4, eps=1e-05, momentum=0.1, affine=True, track_running_stats=True)\n",
      "        (2): GELU(approximate='none')\n",
      "      )\n",
      "      (2): Sequential(\n",
      "        (0): Linear(in_features=4, out_features=2, bias=True)\n",
      "        (1): BatchNorm1d(2, eps=1e-05, momentum=0.1, affine=True, track_running_stats=True)\n",
      "        (2): GELU(approximate='none')\n",
      "      )\n",
      "    )\n",
      "  )\n",
      "  (decoder_module): StackedEncoder(\n",
      "    (encoder): Sequential(\n",
      "      (0): Sequential(\n",
      "        (0): Linear(in_features=2, out_features=4, bias=True)\n",
      "        (1): BatchNorm1d(4, eps=1e-05, momentum=0.1, affine=True, track_running_stats=True)\n",
      "        (2): GELU(approximate='none')\n",
      "      )\n",
      "      (1): Sequential(\n",
      "        (0): Linear(in_features=4, out_features=16, bias=True)\n",
      "        (1): BatchNorm1d(16, eps=1e-05, momentum=0.1, affine=True, track_running_stats=True)\n",
      "        (2): GELU(approximate='none')\n",
      "      )\n",
      "      (2): Sequential(\n",
      "        (0): Linear(in_features=16, out_features=64, bias=True)\n",
      "        (1): BatchNorm1d(64, eps=1e-05, momentum=0.1, affine=True, track_running_stats=True)\n",
      "        (2): GELU(approximate='none')\n",
      "      )\n",
      "    )\n",
      "  )\n",
      "  (latent_mean): Linear(in_features=2, out_features=2, bias=True)\n",
      "  (latent_log_variance): Linear(in_features=2, out_features=2, bias=True)\n",
      ")\n"
     ]
    }
   ],
   "source": [
    "vae = VAE(input_dim=64, hidden_dims=[16, 4], latent_dim=2)\n",
    "print(vae)"
   ]
  },
  {
   "cell_type": "code",
   "execution_count": 12,
   "metadata": {},
   "outputs": [
    {
     "data": {
      "text/plain": [
       "tensor([[-0.1587, -0.1593, -0.1587,  0.8413, -0.1587,  0.8392,  0.8411, -0.1587,\n",
       "         -0.1588, -0.1587, -0.1588, -0.1587,  0.8328, -0.1587, -0.1587,  0.8413,\n",
       "          0.8412, -0.1587, -0.1589, -0.1587, -0.1587, -0.1587,  0.8413,  0.8412,\n",
       "          0.8413, -0.1587,  0.8410,  0.8413,  0.8408, -0.1587, -0.1589,  0.8412,\n",
       "         -0.1587,  0.7883, -0.1587, -0.1587,  0.8376, -0.1598,  0.8411,  0.8413,\n",
       "          0.8393, -0.1587, -0.1593, -0.1587,  0.8413,  0.8412,  0.8413, -0.1587,\n",
       "         -0.1587,  0.8411, -0.1589,  0.8412, -0.1587, -0.1589, -0.1587,  0.8412,\n",
       "          0.8408, -0.1587, -0.1589, -0.1587,  0.8408,  0.8376,  0.8401, -0.1604],\n",
       "        [ 0.8413,  0.8323,  0.8413, -0.1587,  0.8408, -0.1588, -0.1587,  0.8413,\n",
       "          0.8395,  0.8412,  0.8390,  0.8412, -0.1593,  0.8407,  0.8412, -0.1587,\n",
       "         -0.1587,  0.8412,  0.8381,  0.8413,  0.8413,  0.8411, -0.1587, -0.1587,\n",
       "         -0.1587,  0.8413, -0.1587, -0.1587, -0.1587,  0.8413,  0.8384, -0.1587,\n",
       "          0.8410, -0.1624,  0.8413,  0.8412, -0.1589,  0.8256, -0.1587, -0.1587,\n",
       "         -0.1588,  0.8408,  0.8331,  0.8413, -0.1587, -0.1587, -0.1587,  0.8411,\n",
       "          0.8412, -0.1587,  0.8384, -0.1587,  0.8413,  0.8379,  0.8412, -0.1587,\n",
       "         -0.1587,  0.8413,  0.8375,  0.8412, -0.1587, -0.1589, -0.1587,  0.8184]],\n",
       "       grad_fn=<GeluBackward0>)"
      ]
     },
     "execution_count": 12,
     "metadata": {},
     "output_type": "execute_result"
    }
   ],
   "source": [
    "vae.eval()\n",
    "vae(torch.zeros(1, 64))"
   ]
  },
  {
   "cell_type": "code",
   "execution_count": 2,
   "metadata": {},
   "outputs": [
    {
     "ename": "ImportError",
     "evalue": "attempted relative import with no known parent package",
     "output_type": "error",
     "traceback": [
      "\u001b[1;31m---------------------------------------------------------------------------\u001b[0m",
      "\u001b[1;31mImportError\u001b[0m                               Traceback (most recent call last)",
      "Cell \u001b[1;32mIn[2], line 4\u001b[0m\n\u001b[0;32m      1\u001b[0m \u001b[39mimport\u001b[39;00m \u001b[39mos\u001b[39;00m\n\u001b[0;32m      2\u001b[0m \u001b[39mfrom\u001b[39;00m \u001b[39mpathlib\u001b[39;00m \u001b[39mimport\u001b[39;00m Path\n\u001b[1;32m----> 4\u001b[0m \u001b[39mfrom\u001b[39;00m \u001b[39m.\u001b[39;00m\u001b[39m.\u001b[39;00m\u001b[39mprepare\u001b[39;00m\u001b[39m.\u001b[39;00m\u001b[39mtext\u001b[39;00m\u001b[39m.\u001b[39;00m\u001b[39mtokenizer\u001b[39;00m \u001b[39mimport\u001b[39;00m train_tokenizer\n\u001b[0;32m      5\u001b[0m \u001b[39mfrom\u001b[39;00m \u001b[39mtransformers\u001b[39;00m\u001b[39m.\u001b[39;00m\u001b[39mtokenization_utils_base\u001b[39;00m \u001b[39mimport\u001b[39;00m BatchEncoding\n\u001b[0;32m      7\u001b[0m test_batch \u001b[39m=\u001b[39m [\n\u001b[0;32m      8\u001b[0m     \u001b[39m\"\u001b[39m\u001b[39mThere are some unseen words here banana zen 😁 but also some seen text\u001b[39m\u001b[39m\"\u001b[39m,\n\u001b[0;32m      9\u001b[0m     \u001b[39m\"\u001b[39m\u001b[39mLots of unknowns in this one I expect\u001b[39m\u001b[39m\"\u001b[39m,\n\u001b[0;32m     10\u001b[0m     \u001b[39m\"\u001b[39m\u001b[39mtext and words and tokens and stuff\u001b[39m\u001b[39m\"\u001b[39m\n\u001b[0;32m     11\u001b[0m ]\n",
      "\u001b[1;31mImportError\u001b[0m: attempted relative import with no known parent package"
     ]
    }
   ],
   "source": [
    "import os\n",
    "from pathlib import Path\n",
    "\n",
    "from prepare.text.tokenizer import train_tokenizer\n",
    "from transformers.tokenization_utils_base import BatchEncoding\n",
    "\n",
    "test_batch = [\n",
    "    \"There are some unseen words here banana zen 😁 but also some seen text\",\n",
    "    \"Lots of unknowns in this one I expect\",\n",
    "    \"text and words and tokens and stuff\"\n",
    "]\n",
    "\n",
    "test_tokenizer_path = \"C:/Users/willf/DataScience/Repos/deep-embedding/vae/prepare/text/test_data/test_bpe_tokenizer.json\"\n",
    "base_data_path = Path(\"C:/Users/willf/DataScience/Repos/deep-embedding/vae/prepare/text/test_data\")\n",
    "data_paths = [str(path) for path in base_data_path.glob(\"**/*.txt\")]\n",
    "\n",
    "tk = train_tokenizer(data_paths=data_paths, save_path=test_tokenizer_path)\n",
    "\n",
    "\n",
    "encoded_batch: BatchEncoding = tk.encode_batch(test_batch)\n",
    "encoded_batch"
   ]
  },
  {
   "cell_type": "code",
   "execution_count": null,
   "metadata": {},
   "outputs": [],
   "source": []
  }
 ],
 "metadata": {
  "kernelspec": {
   "display_name": "de",
   "language": "python",
   "name": "python3"
  },
  "language_info": {
   "codemirror_mode": {
    "name": "ipython",
    "version": 3
   },
   "file_extension": ".py",
   "mimetype": "text/x-python",
   "name": "python",
   "nbconvert_exporter": "python",
   "pygments_lexer": "ipython3",
   "version": "3.10.8 | packaged by conda-forge | (main, Nov 22 2022, 08:16:33) [MSC v.1929 64 bit (AMD64)]"
  },
  "orig_nbformat": 4,
  "vscode": {
   "interpreter": {
    "hash": "b20c1bcf20f03c32649c64023c2da95982acdbebe984ed7023ddf72d9fd3d1c1"
   }
  }
 },
 "nbformat": 4,
 "nbformat_minor": 2
}
