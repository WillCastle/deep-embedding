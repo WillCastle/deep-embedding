{
 "cells": [
  {
   "cell_type": "code",
   "execution_count": 7,
   "metadata": {},
   "outputs": [],
   "source": [
    "import torch\n",
    "from custom_model import VAE"
   ]
  },
  {
   "cell_type": "code",
   "execution_count": 8,
   "metadata": {},
   "outputs": [
    {
     "name": "stdout",
     "output_type": "stream",
     "text": [
      "VAE(\n",
      "  (encoder_module): StackedEncoder(\n",
      "    (encoder): Sequential(\n",
      "      (0): Sequential(\n",
      "        (0): Linear(in_features=64, out_features=16, bias=True)\n",
      "        (1): BatchNorm1d(16, eps=1e-05, momentum=0.1, affine=True, track_running_stats=True)\n",
      "        (2): GELU(approximate='none')\n",
      "      )\n",
      "      (1): Sequential(\n",
      "        (0): Linear(in_features=16, out_features=4, bias=True)\n",
      "        (1): BatchNorm1d(4, eps=1e-05, momentum=0.1, affine=True, track_running_stats=True)\n",
      "        (2): GELU(approximate='none')\n",
      "      )\n",
      "      (2): Sequential(\n",
      "        (0): Linear(in_features=4, out_features=2, bias=True)\n",
      "        (1): BatchNorm1d(2, eps=1e-05, momentum=0.1, affine=True, track_running_stats=True)\n",
      "        (2): GELU(approximate='none')\n",
      "      )\n",
      "    )\n",
      "  )\n",
      "  (decoder_module): StackedEncoder(\n",
      "    (encoder): Sequential(\n",
      "      (0): Sequential(\n",
      "        (0): Linear(in_features=2, out_features=4, bias=True)\n",
      "        (1): BatchNorm1d(4, eps=1e-05, momentum=0.1, affine=True, track_running_stats=True)\n",
      "        (2): GELU(approximate='none')\n",
      "      )\n",
      "      (1): Sequential(\n",
      "        (0): Linear(in_features=4, out_features=16, bias=True)\n",
      "        (1): BatchNorm1d(16, eps=1e-05, momentum=0.1, affine=True, track_running_stats=True)\n",
      "        (2): GELU(approximate='none')\n",
      "      )\n",
      "      (2): Sequential(\n",
      "        (0): Linear(in_features=16, out_features=64, bias=True)\n",
      "        (1): BatchNorm1d(64, eps=1e-05, momentum=0.1, affine=True, track_running_stats=True)\n",
      "        (2): GELU(approximate='none')\n",
      "      )\n",
      "    )\n",
      "  )\n",
      "  (latent_mean): Linear(in_features=2, out_features=2, bias=True)\n",
      "  (latent_log_variance): Linear(in_features=2, out_features=2, bias=True)\n",
      ")\n"
     ]
    }
   ],
   "source": [
    "vae = VAE(input_dim=64, hidden_dims=[16, 4], latent_dim=2)\n",
    "print(vae)"
   ]
  },
  {
   "cell_type": "code",
   "execution_count": 12,
   "metadata": {},
   "outputs": [
    {
     "data": {
      "text/plain": [
       "tensor([[-0.1587, -0.1593, -0.1587,  0.8413, -0.1587,  0.8392,  0.8411, -0.1587,\n",
       "         -0.1588, -0.1587, -0.1588, -0.1587,  0.8328, -0.1587, -0.1587,  0.8413,\n",
       "          0.8412, -0.1587, -0.1589, -0.1587, -0.1587, -0.1587,  0.8413,  0.8412,\n",
       "          0.8413, -0.1587,  0.8410,  0.8413,  0.8408, -0.1587, -0.1589,  0.8412,\n",
       "         -0.1587,  0.7883, -0.1587, -0.1587,  0.8376, -0.1598,  0.8411,  0.8413,\n",
       "          0.8393, -0.1587, -0.1593, -0.1587,  0.8413,  0.8412,  0.8413, -0.1587,\n",
       "         -0.1587,  0.8411, -0.1589,  0.8412, -0.1587, -0.1589, -0.1587,  0.8412,\n",
       "          0.8408, -0.1587, -0.1589, -0.1587,  0.8408,  0.8376,  0.8401, -0.1604],\n",
       "        [ 0.8413,  0.8323,  0.8413, -0.1587,  0.8408, -0.1588, -0.1587,  0.8413,\n",
       "          0.8395,  0.8412,  0.8390,  0.8412, -0.1593,  0.8407,  0.8412, -0.1587,\n",
       "         -0.1587,  0.8412,  0.8381,  0.8413,  0.8413,  0.8411, -0.1587, -0.1587,\n",
       "         -0.1587,  0.8413, -0.1587, -0.1587, -0.1587,  0.8413,  0.8384, -0.1587,\n",
       "          0.8410, -0.1624,  0.8413,  0.8412, -0.1589,  0.8256, -0.1587, -0.1587,\n",
       "         -0.1588,  0.8408,  0.8331,  0.8413, -0.1587, -0.1587, -0.1587,  0.8411,\n",
       "          0.8412, -0.1587,  0.8384, -0.1587,  0.8413,  0.8379,  0.8412, -0.1587,\n",
       "         -0.1587,  0.8413,  0.8375,  0.8412, -0.1587, -0.1589, -0.1587,  0.8184]],\n",
       "       grad_fn=<GeluBackward0>)"
      ]
     },
     "execution_count": 12,
     "metadata": {},
     "output_type": "execute_result"
    }
   ],
   "source": [
    "vae.eval()\n",
    "vae(torch.zeros(1, 64))"
   ]
  }
 ],
 "metadata": {
  "kernelspec": {
   "display_name": "de",
   "language": "python",
   "name": "python3"
  },
  "language_info": {
   "codemirror_mode": {
    "name": "ipython",
    "version": 3
   },
   "file_extension": ".py",
   "mimetype": "text/x-python",
   "name": "python",
   "nbconvert_exporter": "python",
   "pygments_lexer": "ipython3",
   "version": "3.10.8"
  },
  "orig_nbformat": 4,
  "vscode": {
   "interpreter": {
    "hash": "b20c1bcf20f03c32649c64023c2da95982acdbebe984ed7023ddf72d9fd3d1c1"
   }
  }
 },
 "nbformat": 4,
 "nbformat_minor": 2
}
